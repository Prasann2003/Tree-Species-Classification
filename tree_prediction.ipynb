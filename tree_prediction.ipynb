{
 "cells": [
  {
   "cell_type": "code",
   "execution_count": 1,
   "id": "12d9f477-7ff0-4b9f-92ca-5094d66ee89a",
   "metadata": {},
   "outputs": [],
   "source": [
    "import numpy as np\n",
    "from tensorflow.keras.models import load_model\n",
    "from tensorflow.keras.preprocessing import image\n",
    "import matplotlib.pyplot as plt"
   ]
  },
  {
   "cell_type": "code",
   "execution_count": 2,
   "id": "7ab1fa97-b1f2-4a2d-9b1b-4f9389c555fd",
   "metadata": {},
   "outputs": [],
   "source": [
    "model = load_model(\"basic_cnn_model.keras\")  # or the EfficientNet model if you want"
   ]
  },
  {
   "cell_type": "code",
   "execution_count": 3,
   "id": "a31d51f6-ae6b-4948-94b4-55b9955ffae8",
   "metadata": {},
   "outputs": [],
   "source": [
    "class_names = ['Maple', 'Oak', 'Pine']  # change this to your actual class labels"
   ]
  },
  {
   "cell_type": "code",
   "execution_count": 4,
   "id": "4a737a12-3923-476f-8a34-109b6e20bcef",
   "metadata": {},
   "outputs": [],
   "source": [
    "def predict_tree_species(image_path):\n",
    "    img = image.load_img(image_path, target_size=(128, 128))  # change to 224 if using EfficientNet\n",
    "    img_array = image.img_to_array(img) / 255.0\n",
    "    img_array = np.expand_dims(img_array, axis=0)\n",
    "    \n",
    "    pred = model.predict(img_array)\n",
    "    predicted_class = np.argmax(pred)\n",
    "    \n",
    "    # Display the image and prediction\n",
    "    plt.imshow(img)\n",
    "    plt.axis('off')\n",
    "    plt.title(f\"Predicted: {class_names[predicted_class]}\")\n",
    "    plt.show()\n",
    "\n",
    "    return class_names[predicted_class]\n"
   ]
  },
  {
   "cell_type": "code",
   "execution_count": 5,
   "id": "f6f0c24d-9f2a-4636-8e9f-5ca28fad6167",
   "metadata": {},
   "outputs": [
    {
     "ename": "NameError",
     "evalue": "name 'pred' is not defined",
     "output_type": "error",
     "traceback": [
      "\u001b[1;31m---------------------------------------------------------------------------\u001b[0m",
      "\u001b[1;31mNameError\u001b[0m                                 Traceback (most recent call last)",
      "Cell \u001b[1;32mIn[5], line 1\u001b[0m\n\u001b[1;32m----> 1\u001b[0m \u001b[43mpred\u001b[49m(\u001b[38;5;124m\"\u001b[39m\u001b[38;5;124mtest_leaf.jpg\u001b[39m\u001b[38;5;124m\"\u001b[39m)\n",
      "\u001b[1;31mNameError\u001b[0m: name 'pred' is not defined"
     ]
    }
   ],
   "source": [
    "predict_tree_species(\"test_leaf.jpg\")\n"
   ]
  },
  {
   "cell_type": "code",
   "execution_count": null,
   "id": "5e16302e-482b-4851-92f5-6b5af13e0397",
   "metadata": {},
   "outputs": [],
   "source": []
  }
 ],
 "metadata": {
  "kernelspec": {
   "display_name": "Python 3 (ipykernel)",
   "language": "python",
   "name": "python3"
  },
  "language_info": {
   "codemirror_mode": {
    "name": "ipython",
    "version": 3
   },
   "file_extension": ".py",
   "mimetype": "text/x-python",
   "name": "python",
   "nbconvert_exporter": "python",
   "pygments_lexer": "ipython3",
   "version": "3.12.7"
  }
 },
 "nbformat": 4,
 "nbformat_minor": 5
}
