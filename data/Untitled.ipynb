{
 "cells": [
  {
   "cell_type": "code",
   "execution_count": 3,
   "id": "0459b7e6-9377-4a14-85b3-fadb2d629c6d",
   "metadata": {},
   "outputs": [
    {
     "name": "stderr",
     "output_type": "stream",
     "text": [
      "Scanning species folders:   9%|█████                                                    | 3/34 [00:00<00:02, 14.64it/s]"
     ]
    },
    {
     "name": "stdout",
     "output_type": "stream",
     "text": [
      "🗑️ Duplicate removed: .\\amla\\6.jpg\n",
      "🗑️ Duplicate removed: .\\amla\\images (32).jpeg\n",
      "🗑️ Duplicate removed: .\\amla\\images (4).jpeg\n",
      "🗑️ Duplicate removed: .\\amla\\images (7).jpeg\n",
      "🗑️ Duplicate removed: .\\amla\\images.jpeg\n",
      "🗑️ Duplicate removed: .\\asopalav\\images (3).jpeg\n",
      "🗑️ Duplicate removed: .\\asopalav\\images (37).jpeg\n",
      "🗑️ Duplicate removed: .\\asopalav\\images (7).jpeg\n"
     ]
    },
    {
     "name": "stderr",
     "output_type": "stream",
     "text": [
      "Scanning species folders:  32%|██████████████████                                      | 11/34 [00:00<00:01, 16.81it/s]"
     ]
    },
    {
     "name": "stdout",
     "output_type": "stream",
     "text": [
      "🗑️ Duplicate removed: .\\bili\\download (6).jpeg\n",
      "🗑️ Duplicate removed: .\\bili\\download (8).jpeg\n",
      "🗑️ Duplicate removed: .\\bili\\images (27).jpeg\n",
      "🗑️ Duplicate removed: .\\bili\\images (29).jpeg\n",
      "🗑️ Duplicate removed: .\\bili\\images (33).jpeg\n",
      "🗑️ Duplicate removed: .\\bili\\images (4).jpeg\n",
      "🗑️ Duplicate removed: .\\champa\\images (22).jpg\n",
      "🗑️ Duplicate removed: .\\champa\\images (28).jpg\n",
      "🗑️ Duplicate removed: .\\champa\\images (30).jpg\n",
      "🗑️ Duplicate removed: .\\champa\\images (33).jpg\n",
      "🗑️ Duplicate removed: .\\coconut\\download (3).jpg\n"
     ]
    },
    {
     "name": "stderr",
     "output_type": "stream",
     "text": [
      "Scanning species folders:  41%|███████████████████████                                 | 14/34 [00:00<00:01, 17.03it/s]"
     ]
    },
    {
     "name": "stdout",
     "output_type": "stream",
     "text": [
      "🗑️ Duplicate removed: .\\garmalo\\image11.jpg\n",
      "🗑️ Duplicate removed: .\\garmalo\\image19.jpg\n",
      "🗑️ Duplicate removed: .\\garmalo\\image34.jpg\n",
      "🗑️ Duplicate removed: .\\garmalo\\image9.jpg\n",
      "🗑️ Duplicate removed: .\\gulmohor\\download (6).jpeg\n",
      "🗑️ Duplicate removed: .\\gulmohor\\download.jpeg\n",
      "🗑️ Duplicate removed: .\\gulmohor\\images (14).jpeg\n",
      "🗑️ Duplicate removed: .\\gulmohor\\images (24).jpeg\n",
      "🗑️ Duplicate removed: .\\gulmohor\\images (25).jpeg\n",
      "🗑️ Duplicate removed: .\\gulmohor\\images (28).jpeg\n",
      "🗑️ Duplicate removed: .\\gulmohor\\images (3).jpeg\n"
     ]
    },
    {
     "name": "stderr",
     "output_type": "stream",
     "text": [
      "Scanning species folders:  53%|█████████████████████████████▋                          | 18/34 [00:01<00:00, 16.11it/s]"
     ]
    },
    {
     "name": "stdout",
     "output_type": "stream",
     "text": [
      "🗑️ Duplicate removed: .\\gunda\\images (9).jpg\n",
      "🗑️ Duplicate removed: .\\jamun\\images (20).jpg\n",
      "🗑️ Duplicate removed: .\\jamun\\images (24).jpg\n",
      "🗑️ Duplicate removed: .\\jamun\\images (9).jpg\n",
      "🗑️ Duplicate removed: .\\kanchan\\download.jpg\n",
      "🗑️ Duplicate removed: .\\kanchan\\images (11).jpg\n",
      "🗑️ Duplicate removed: .\\kanchan\\images (3).jpg\n",
      "🗑️ Duplicate removed: .\\kesudo\\images (20).jpeg\n",
      "🗑️ Duplicate removed: .\\kesudo\\images (25).jpeg\n",
      "🗑️ Duplicate removed: .\\kesudo\\images (32).jpeg\n",
      "🗑️ Duplicate removed: .\\kesudo\\images (33).jpeg\n",
      "🗑️ Duplicate removed: .\\kesudo\\images (36).jpeg\n",
      "🗑️ Duplicate removed: .\\kesudo\\images (4).jpeg\n",
      "🗑️ Duplicate removed: .\\kesudo\\images (41).jpeg\n",
      "🗑️ Duplicate removed: .\\kesudo\\images (43).jpeg\n",
      "🗑️ Duplicate removed: .\\kesudo\\images (6).jpeg\n",
      "🗑️ Duplicate removed: .\\kesudo\\images.jpeg\n"
     ]
    },
    {
     "name": "stderr",
     "output_type": "stream",
     "text": [
      "Scanning species folders:  65%|████████████████████████████████████▏                   | 22/34 [00:01<00:00, 14.64it/s]"
     ]
    },
    {
     "name": "stdout",
     "output_type": "stream",
     "text": [
      "🗑️ Duplicate removed: .\\motichanoti\\download (4).jpg\n",
      "🗑️ Duplicate removed: .\\motichanoti\\download (5).jpeg\n",
      "🗑️ Duplicate removed: .\\motichanoti\\images (22).jpg\n",
      "🗑️ Duplicate removed: .\\motichanoti\\images (24).jpg\n",
      "🗑️ Duplicate removed: .\\nilgiri\\image28.jpg\n",
      "🗑️ Duplicate removed: .\\nilgiri\\image38.jpg\n",
      "🗑️ Duplicate removed: .\\nilgiri\\image4.jpg\n",
      "🗑️ Duplicate removed: .\\nilgiri\\image41.jpg\n",
      "🗑️ Duplicate removed: .\\nilgiri\\image5.jpg\n"
     ]
    },
    {
     "name": "stderr",
     "output_type": "stream",
     "text": [
      "Scanning species folders:  76%|██████████████████████████████████████████▊             | 26/34 [00:01<00:00, 12.00it/s]"
     ]
    },
    {
     "name": "stdout",
     "output_type": "stream",
     "text": [
      "🗑️ Duplicate removed: .\\pilikaren\\download (18).jpg\n",
      "🗑️ Duplicate removed: .\\pilikaren\\download (2).jpg\n",
      "🗑️ Duplicate removed: .\\pilikaren\\images (27).jpg\n",
      "🗑️ Duplicate removed: .\\pilikaren\\images (28).jpg\n",
      "🗑️ Duplicate removed: .\\pipal\\image12.jpg\n",
      "🗑️ Duplicate removed: .\\pipal\\image17.jpg\n",
      "🗑️ Duplicate removed: .\\pipal\\image4.jpg\n",
      "🗑️ Duplicate removed: .\\pipal\\image45.jpg\n",
      "🗑️ Duplicate removed: .\\saptaparni\\image6.jpg\n",
      "🗑️ Duplicate removed: .\\shirish\\download (4).jpeg\n"
     ]
    },
    {
     "name": "stderr",
     "output_type": "stream",
     "text": [
      "Scanning species folders:  88%|█████████████████████████████████████████████████▍      | 30/34 [00:02<00:00, 13.95it/s]"
     ]
    },
    {
     "name": "stdout",
     "output_type": "stream",
     "text": [
      "🗑️ Duplicate removed: .\\simlo\\download (4).jpeg\n",
      "🗑️ Duplicate removed: .\\simlo\\images (18).jpeg\n",
      "🗑️ Duplicate removed: .\\simlo\\images (19).jpeg\n",
      "🗑️ Duplicate removed: .\\simlo\\images (2).jpeg\n",
      "🗑️ Duplicate removed: .\\simlo\\images (23).jpeg\n",
      "🗑️ Duplicate removed: .\\simlo\\images (29).jpeg\n",
      "🗑️ Duplicate removed: .\\simlo\\images (30).jpeg\n",
      "🗑️ Duplicate removed: .\\simlo\\images (31).jpeg\n",
      "🗑️ Duplicate removed: .\\simlo\\images (35).jpeg\n",
      "🗑️ Duplicate removed: .\\simlo\\images (36).jpeg\n",
      "🗑️ Duplicate removed: .\\simlo\\images (39).jpeg\n",
      "🗑️ Duplicate removed: .\\simlo\\images (40).jpeg\n",
      "🗑️ Duplicate removed: .\\simlo\\images (9).jpeg\n",
      "🗑️ Duplicate removed: .\\simlo\\images.jpeg\n",
      "🗑️ Duplicate removed: .\\sitafal\\images (2).jpeg\n",
      "🗑️ Duplicate removed: .\\sitafal\\images (3).jpeg\n",
      "🗑️ Duplicate removed: .\\sitafal\\images (5).jpeg\n",
      "🗑️ Duplicate removed: .\\sitafal\\images (7).jpeg\n",
      "🗑️ Duplicate removed: .\\sonmahor\\download (6).jpeg\n"
     ]
    },
    {
     "name": "stderr",
     "output_type": "stream",
     "text": [
      "Scanning species folders: 100%|████████████████████████████████████████████████████████| 34/34 [00:02<00:00, 14.90it/s]\n"
     ]
    },
    {
     "name": "stdout",
     "output_type": "stream",
     "text": [
      "🗑️ Duplicate removed: .\\vad\\download (4).jpeg\n",
      "✅ Cleaning completed! 1514 valid images listed in 'manifest.csv'\n"
     ]
    }
   ],
   "source": [
    "# 📦 Import necessary libraries\n",
    "import os\n",
    "import hashlib\n",
    "import pandas as pd\n",
    "from PIL import Image\n",
    "from tqdm import tqdm\n",
    "\n",
    "# 📁 Set your dataset directory\n",
    "BASE_DIR = \".\"  # you're already inside data/train\n",
    "BAD_DIR = \"../bad_images\"  # save bad images in data/bad_images\n",
    "os.makedirs(BAD_DIR, exist_ok=True)\n",
    "\n",
    "# 📋 Initialize data structures\n",
    "hashes = {}\n",
    "manifest = []\n",
    "\n",
    "# 🔄 Traverse through each species folder\n",
    "for species in tqdm(os.listdir(BASE_DIR), desc=\"Scanning species folders\"):\n",
    "    species_path = os.path.join(BASE_DIR, species)\n",
    "    \n",
    "    # Skip if not a folder\n",
    "    if not os.path.isdir(species_path):\n",
    "        continue\n",
    "\n",
    "    for filename in os.listdir(species_path):\n",
    "        file_path = os.path.join(species_path, filename)\n",
    "\n",
    "        # Skip non-image files\n",
    "        if not filename.lower().endswith(('.jpg', '.jpeg', '.png')):\n",
    "            continue\n",
    "\n",
    "        try:\n",
    "            # 🧪 Validate the image\n",
    "            with Image.open(file_path) as img:\n",
    "                img.verify()\n",
    "        except Exception:\n",
    "            # Move corrupted file\n",
    "            os.rename(file_path, os.path.join(BAD_DIR, filename))\n",
    "            print(f\"❌ Corrupt image removed: {file_path}\")\n",
    "            continue\n",
    "\n",
    "        # 🧬 Check for duplicates using MD5 hash\n",
    "        with open(file_path, 'rb') as f:\n",
    "            file_hash = hashlib.md5(f.read()).hexdigest()\n",
    "\n",
    "        if file_hash in hashes:\n",
    "            # Duplicate found – remove\n",
    "            os.remove(file_path)\n",
    "            print(f\"🗑️ Duplicate removed: {file_path}\")\n",
    "            continue\n",
    "\n",
    "        # Save the hash and record for manifest\n",
    "        hashes[file_hash] = file_path\n",
    "        manifest.append({\n",
    "            'filename': os.path.relpath(file_path, start=\"..\"),\n",
    "            'species': species\n",
    "        })\n",
    "\n",
    "# 📄 Create and save manifest CSV one level up (in data/)\n",
    "df = pd.DataFrame(manifest)\n",
    "df.to_csv(\"../manifest.csv\", index=False)\n",
    "\n",
    "print(f\"✅ Cleaning completed! {len(df)} valid images listed in 'manifest.csv'\")\n"
   ]
  },
  {
   "cell_type": "code",
   "execution_count": 1,
   "id": "8bd480ae-5deb-49b2-b90e-0c6f335b331b",
   "metadata": {},
   "outputs": [
    {
     "ename": "FileNotFoundError",
     "evalue": "[Errno 2] No such file or directory: 'data/manifest.csv'",
     "output_type": "error",
     "traceback": [
      "\u001b[1;31m---------------------------------------------------------------------------\u001b[0m",
      "\u001b[1;31mFileNotFoundError\u001b[0m                         Traceback (most recent call last)",
      "Cell \u001b[1;32mIn[1], line 2\u001b[0m\n\u001b[0;32m      1\u001b[0m \u001b[38;5;28;01mimport\u001b[39;00m \u001b[38;5;21;01mpandas\u001b[39;00m \u001b[38;5;28;01mas\u001b[39;00m \u001b[38;5;21;01mpd\u001b[39;00m\n\u001b[1;32m----> 2\u001b[0m df \u001b[38;5;241m=\u001b[39m \u001b[43mpd\u001b[49m\u001b[38;5;241;43m.\u001b[39;49m\u001b[43mread_csv\u001b[49m\u001b[43m(\u001b[49m\u001b[38;5;124;43m\"\u001b[39;49m\u001b[38;5;124;43mdata/manifest.csv\u001b[39;49m\u001b[38;5;124;43m\"\u001b[39;49m\u001b[43m)\u001b[49m\n\u001b[0;32m      3\u001b[0m \u001b[38;5;28mprint\u001b[39m(df\u001b[38;5;241m.\u001b[39mhead())\n",
      "File \u001b[1;32m~\\AppData\\Local\\Programs\\Python\\Python312\\Lib\\site-packages\\pandas\\io\\parsers\\readers.py:1026\u001b[0m, in \u001b[0;36mread_csv\u001b[1;34m(filepath_or_buffer, sep, delimiter, header, names, index_col, usecols, dtype, engine, converters, true_values, false_values, skipinitialspace, skiprows, skipfooter, nrows, na_values, keep_default_na, na_filter, verbose, skip_blank_lines, parse_dates, infer_datetime_format, keep_date_col, date_parser, date_format, dayfirst, cache_dates, iterator, chunksize, compression, thousands, decimal, lineterminator, quotechar, quoting, doublequote, escapechar, comment, encoding, encoding_errors, dialect, on_bad_lines, delim_whitespace, low_memory, memory_map, float_precision, storage_options, dtype_backend)\u001b[0m\n\u001b[0;32m   1013\u001b[0m kwds_defaults \u001b[38;5;241m=\u001b[39m _refine_defaults_read(\n\u001b[0;32m   1014\u001b[0m     dialect,\n\u001b[0;32m   1015\u001b[0m     delimiter,\n\u001b[1;32m   (...)\u001b[0m\n\u001b[0;32m   1022\u001b[0m     dtype_backend\u001b[38;5;241m=\u001b[39mdtype_backend,\n\u001b[0;32m   1023\u001b[0m )\n\u001b[0;32m   1024\u001b[0m kwds\u001b[38;5;241m.\u001b[39mupdate(kwds_defaults)\n\u001b[1;32m-> 1026\u001b[0m \u001b[38;5;28;01mreturn\u001b[39;00m \u001b[43m_read\u001b[49m\u001b[43m(\u001b[49m\u001b[43mfilepath_or_buffer\u001b[49m\u001b[43m,\u001b[49m\u001b[43m \u001b[49m\u001b[43mkwds\u001b[49m\u001b[43m)\u001b[49m\n",
      "File \u001b[1;32m~\\AppData\\Local\\Programs\\Python\\Python312\\Lib\\site-packages\\pandas\\io\\parsers\\readers.py:620\u001b[0m, in \u001b[0;36m_read\u001b[1;34m(filepath_or_buffer, kwds)\u001b[0m\n\u001b[0;32m    617\u001b[0m _validate_names(kwds\u001b[38;5;241m.\u001b[39mget(\u001b[38;5;124m\"\u001b[39m\u001b[38;5;124mnames\u001b[39m\u001b[38;5;124m\"\u001b[39m, \u001b[38;5;28;01mNone\u001b[39;00m))\n\u001b[0;32m    619\u001b[0m \u001b[38;5;66;03m# Create the parser.\u001b[39;00m\n\u001b[1;32m--> 620\u001b[0m parser \u001b[38;5;241m=\u001b[39m \u001b[43mTextFileReader\u001b[49m\u001b[43m(\u001b[49m\u001b[43mfilepath_or_buffer\u001b[49m\u001b[43m,\u001b[49m\u001b[43m \u001b[49m\u001b[38;5;241;43m*\u001b[39;49m\u001b[38;5;241;43m*\u001b[39;49m\u001b[43mkwds\u001b[49m\u001b[43m)\u001b[49m\n\u001b[0;32m    622\u001b[0m \u001b[38;5;28;01mif\u001b[39;00m chunksize \u001b[38;5;129;01mor\u001b[39;00m iterator:\n\u001b[0;32m    623\u001b[0m     \u001b[38;5;28;01mreturn\u001b[39;00m parser\n",
      "File \u001b[1;32m~\\AppData\\Local\\Programs\\Python\\Python312\\Lib\\site-packages\\pandas\\io\\parsers\\readers.py:1620\u001b[0m, in \u001b[0;36mTextFileReader.__init__\u001b[1;34m(self, f, engine, **kwds)\u001b[0m\n\u001b[0;32m   1617\u001b[0m     \u001b[38;5;28mself\u001b[39m\u001b[38;5;241m.\u001b[39moptions[\u001b[38;5;124m\"\u001b[39m\u001b[38;5;124mhas_index_names\u001b[39m\u001b[38;5;124m\"\u001b[39m] \u001b[38;5;241m=\u001b[39m kwds[\u001b[38;5;124m\"\u001b[39m\u001b[38;5;124mhas_index_names\u001b[39m\u001b[38;5;124m\"\u001b[39m]\n\u001b[0;32m   1619\u001b[0m \u001b[38;5;28mself\u001b[39m\u001b[38;5;241m.\u001b[39mhandles: IOHandles \u001b[38;5;241m|\u001b[39m \u001b[38;5;28;01mNone\u001b[39;00m \u001b[38;5;241m=\u001b[39m \u001b[38;5;28;01mNone\u001b[39;00m\n\u001b[1;32m-> 1620\u001b[0m \u001b[38;5;28mself\u001b[39m\u001b[38;5;241m.\u001b[39m_engine \u001b[38;5;241m=\u001b[39m \u001b[38;5;28;43mself\u001b[39;49m\u001b[38;5;241;43m.\u001b[39;49m\u001b[43m_make_engine\u001b[49m\u001b[43m(\u001b[49m\u001b[43mf\u001b[49m\u001b[43m,\u001b[49m\u001b[43m \u001b[49m\u001b[38;5;28;43mself\u001b[39;49m\u001b[38;5;241;43m.\u001b[39;49m\u001b[43mengine\u001b[49m\u001b[43m)\u001b[49m\n",
      "File \u001b[1;32m~\\AppData\\Local\\Programs\\Python\\Python312\\Lib\\site-packages\\pandas\\io\\parsers\\readers.py:1880\u001b[0m, in \u001b[0;36mTextFileReader._make_engine\u001b[1;34m(self, f, engine)\u001b[0m\n\u001b[0;32m   1878\u001b[0m     \u001b[38;5;28;01mif\u001b[39;00m \u001b[38;5;124m\"\u001b[39m\u001b[38;5;124mb\u001b[39m\u001b[38;5;124m\"\u001b[39m \u001b[38;5;129;01mnot\u001b[39;00m \u001b[38;5;129;01min\u001b[39;00m mode:\n\u001b[0;32m   1879\u001b[0m         mode \u001b[38;5;241m+\u001b[39m\u001b[38;5;241m=\u001b[39m \u001b[38;5;124m\"\u001b[39m\u001b[38;5;124mb\u001b[39m\u001b[38;5;124m\"\u001b[39m\n\u001b[1;32m-> 1880\u001b[0m \u001b[38;5;28mself\u001b[39m\u001b[38;5;241m.\u001b[39mhandles \u001b[38;5;241m=\u001b[39m \u001b[43mget_handle\u001b[49m\u001b[43m(\u001b[49m\n\u001b[0;32m   1881\u001b[0m \u001b[43m    \u001b[49m\u001b[43mf\u001b[49m\u001b[43m,\u001b[49m\n\u001b[0;32m   1882\u001b[0m \u001b[43m    \u001b[49m\u001b[43mmode\u001b[49m\u001b[43m,\u001b[49m\n\u001b[0;32m   1883\u001b[0m \u001b[43m    \u001b[49m\u001b[43mencoding\u001b[49m\u001b[38;5;241;43m=\u001b[39;49m\u001b[38;5;28;43mself\u001b[39;49m\u001b[38;5;241;43m.\u001b[39;49m\u001b[43moptions\u001b[49m\u001b[38;5;241;43m.\u001b[39;49m\u001b[43mget\u001b[49m\u001b[43m(\u001b[49m\u001b[38;5;124;43m\"\u001b[39;49m\u001b[38;5;124;43mencoding\u001b[39;49m\u001b[38;5;124;43m\"\u001b[39;49m\u001b[43m,\u001b[49m\u001b[43m \u001b[49m\u001b[38;5;28;43;01mNone\u001b[39;49;00m\u001b[43m)\u001b[49m\u001b[43m,\u001b[49m\n\u001b[0;32m   1884\u001b[0m \u001b[43m    \u001b[49m\u001b[43mcompression\u001b[49m\u001b[38;5;241;43m=\u001b[39;49m\u001b[38;5;28;43mself\u001b[39;49m\u001b[38;5;241;43m.\u001b[39;49m\u001b[43moptions\u001b[49m\u001b[38;5;241;43m.\u001b[39;49m\u001b[43mget\u001b[49m\u001b[43m(\u001b[49m\u001b[38;5;124;43m\"\u001b[39;49m\u001b[38;5;124;43mcompression\u001b[39;49m\u001b[38;5;124;43m\"\u001b[39;49m\u001b[43m,\u001b[49m\u001b[43m \u001b[49m\u001b[38;5;28;43;01mNone\u001b[39;49;00m\u001b[43m)\u001b[49m\u001b[43m,\u001b[49m\n\u001b[0;32m   1885\u001b[0m \u001b[43m    \u001b[49m\u001b[43mmemory_map\u001b[49m\u001b[38;5;241;43m=\u001b[39;49m\u001b[38;5;28;43mself\u001b[39;49m\u001b[38;5;241;43m.\u001b[39;49m\u001b[43moptions\u001b[49m\u001b[38;5;241;43m.\u001b[39;49m\u001b[43mget\u001b[49m\u001b[43m(\u001b[49m\u001b[38;5;124;43m\"\u001b[39;49m\u001b[38;5;124;43mmemory_map\u001b[39;49m\u001b[38;5;124;43m\"\u001b[39;49m\u001b[43m,\u001b[49m\u001b[43m \u001b[49m\u001b[38;5;28;43;01mFalse\u001b[39;49;00m\u001b[43m)\u001b[49m\u001b[43m,\u001b[49m\n\u001b[0;32m   1886\u001b[0m \u001b[43m    \u001b[49m\u001b[43mis_text\u001b[49m\u001b[38;5;241;43m=\u001b[39;49m\u001b[43mis_text\u001b[49m\u001b[43m,\u001b[49m\n\u001b[0;32m   1887\u001b[0m \u001b[43m    \u001b[49m\u001b[43merrors\u001b[49m\u001b[38;5;241;43m=\u001b[39;49m\u001b[38;5;28;43mself\u001b[39;49m\u001b[38;5;241;43m.\u001b[39;49m\u001b[43moptions\u001b[49m\u001b[38;5;241;43m.\u001b[39;49m\u001b[43mget\u001b[49m\u001b[43m(\u001b[49m\u001b[38;5;124;43m\"\u001b[39;49m\u001b[38;5;124;43mencoding_errors\u001b[39;49m\u001b[38;5;124;43m\"\u001b[39;49m\u001b[43m,\u001b[49m\u001b[43m \u001b[49m\u001b[38;5;124;43m\"\u001b[39;49m\u001b[38;5;124;43mstrict\u001b[39;49m\u001b[38;5;124;43m\"\u001b[39;49m\u001b[43m)\u001b[49m\u001b[43m,\u001b[49m\n\u001b[0;32m   1888\u001b[0m \u001b[43m    \u001b[49m\u001b[43mstorage_options\u001b[49m\u001b[38;5;241;43m=\u001b[39;49m\u001b[38;5;28;43mself\u001b[39;49m\u001b[38;5;241;43m.\u001b[39;49m\u001b[43moptions\u001b[49m\u001b[38;5;241;43m.\u001b[39;49m\u001b[43mget\u001b[49m\u001b[43m(\u001b[49m\u001b[38;5;124;43m\"\u001b[39;49m\u001b[38;5;124;43mstorage_options\u001b[39;49m\u001b[38;5;124;43m\"\u001b[39;49m\u001b[43m,\u001b[49m\u001b[43m \u001b[49m\u001b[38;5;28;43;01mNone\u001b[39;49;00m\u001b[43m)\u001b[49m\u001b[43m,\u001b[49m\n\u001b[0;32m   1889\u001b[0m \u001b[43m\u001b[49m\u001b[43m)\u001b[49m\n\u001b[0;32m   1890\u001b[0m \u001b[38;5;28;01massert\u001b[39;00m \u001b[38;5;28mself\u001b[39m\u001b[38;5;241m.\u001b[39mhandles \u001b[38;5;129;01mis\u001b[39;00m \u001b[38;5;129;01mnot\u001b[39;00m \u001b[38;5;28;01mNone\u001b[39;00m\n\u001b[0;32m   1891\u001b[0m f \u001b[38;5;241m=\u001b[39m \u001b[38;5;28mself\u001b[39m\u001b[38;5;241m.\u001b[39mhandles\u001b[38;5;241m.\u001b[39mhandle\n",
      "File \u001b[1;32m~\\AppData\\Local\\Programs\\Python\\Python312\\Lib\\site-packages\\pandas\\io\\common.py:873\u001b[0m, in \u001b[0;36mget_handle\u001b[1;34m(path_or_buf, mode, encoding, compression, memory_map, is_text, errors, storage_options)\u001b[0m\n\u001b[0;32m    868\u001b[0m \u001b[38;5;28;01melif\u001b[39;00m \u001b[38;5;28misinstance\u001b[39m(handle, \u001b[38;5;28mstr\u001b[39m):\n\u001b[0;32m    869\u001b[0m     \u001b[38;5;66;03m# Check whether the filename is to be opened in binary mode.\u001b[39;00m\n\u001b[0;32m    870\u001b[0m     \u001b[38;5;66;03m# Binary mode does not support 'encoding' and 'newline'.\u001b[39;00m\n\u001b[0;32m    871\u001b[0m     \u001b[38;5;28;01mif\u001b[39;00m ioargs\u001b[38;5;241m.\u001b[39mencoding \u001b[38;5;129;01mand\u001b[39;00m \u001b[38;5;124m\"\u001b[39m\u001b[38;5;124mb\u001b[39m\u001b[38;5;124m\"\u001b[39m \u001b[38;5;129;01mnot\u001b[39;00m \u001b[38;5;129;01min\u001b[39;00m ioargs\u001b[38;5;241m.\u001b[39mmode:\n\u001b[0;32m    872\u001b[0m         \u001b[38;5;66;03m# Encoding\u001b[39;00m\n\u001b[1;32m--> 873\u001b[0m         handle \u001b[38;5;241m=\u001b[39m \u001b[38;5;28;43mopen\u001b[39;49m\u001b[43m(\u001b[49m\n\u001b[0;32m    874\u001b[0m \u001b[43m            \u001b[49m\u001b[43mhandle\u001b[49m\u001b[43m,\u001b[49m\n\u001b[0;32m    875\u001b[0m \u001b[43m            \u001b[49m\u001b[43mioargs\u001b[49m\u001b[38;5;241;43m.\u001b[39;49m\u001b[43mmode\u001b[49m\u001b[43m,\u001b[49m\n\u001b[0;32m    876\u001b[0m \u001b[43m            \u001b[49m\u001b[43mencoding\u001b[49m\u001b[38;5;241;43m=\u001b[39;49m\u001b[43mioargs\u001b[49m\u001b[38;5;241;43m.\u001b[39;49m\u001b[43mencoding\u001b[49m\u001b[43m,\u001b[49m\n\u001b[0;32m    877\u001b[0m \u001b[43m            \u001b[49m\u001b[43merrors\u001b[49m\u001b[38;5;241;43m=\u001b[39;49m\u001b[43merrors\u001b[49m\u001b[43m,\u001b[49m\n\u001b[0;32m    878\u001b[0m \u001b[43m            \u001b[49m\u001b[43mnewline\u001b[49m\u001b[38;5;241;43m=\u001b[39;49m\u001b[38;5;124;43m\"\u001b[39;49m\u001b[38;5;124;43m\"\u001b[39;49m\u001b[43m,\u001b[49m\n\u001b[0;32m    879\u001b[0m \u001b[43m        \u001b[49m\u001b[43m)\u001b[49m\n\u001b[0;32m    880\u001b[0m     \u001b[38;5;28;01melse\u001b[39;00m:\n\u001b[0;32m    881\u001b[0m         \u001b[38;5;66;03m# Binary mode\u001b[39;00m\n\u001b[0;32m    882\u001b[0m         handle \u001b[38;5;241m=\u001b[39m \u001b[38;5;28mopen\u001b[39m(handle, ioargs\u001b[38;5;241m.\u001b[39mmode)\n",
      "\u001b[1;31mFileNotFoundError\u001b[0m: [Errno 2] No such file or directory: 'data/manifest.csv'"
     ]
    }
   ],
   "source": [
    "import pandas as pd\n",
    "df = pd.read_csv(\"data/manifest.csv\")\n",
    "print(df.head())\n"
   ]
  }
 ],
 "metadata": {
  "kernelspec": {
   "display_name": "Python 3 (ipykernel)",
   "language": "python",
   "name": "python3"
  },
  "language_info": {
   "codemirror_mode": {
    "name": "ipython",
    "version": 3
   },
   "file_extension": ".py",
   "mimetype": "text/x-python",
   "name": "python",
   "nbconvert_exporter": "python",
   "pygments_lexer": "ipython3",
   "version": "3.12.7"
  }
 },
 "nbformat": 4,
 "nbformat_minor": 5
}
